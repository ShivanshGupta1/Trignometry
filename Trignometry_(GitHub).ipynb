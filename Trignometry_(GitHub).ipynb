{
  "nbformat": 4,
  "nbformat_minor": 0,
  "metadata": {
    "colab": {
      "name": "Trignometry (GitHub).ipynb",
      "provenance": [],
      "authorship_tag": "ABX9TyOk0xhlYL/ohOWmgcXBxrOG",
      "include_colab_link": true
    },
    "kernelspec": {
      "name": "python3",
      "display_name": "Python 3"
    }
  },
  "cells": [
    {
      "cell_type": "markdown",
      "metadata": {
        "id": "view-in-github",
        "colab_type": "text"
      },
      "source": [
        "<a href=\"https://colab.research.google.com/github/ShivanshGupta1/Trignometry/blob/main/Trignometry_(GitHub).ipynb\" target=\"_parent\"><img src=\"https://colab.research.google.com/assets/colab-badge.svg\" alt=\"Open In Colab\"/></a>"
      ]
    },
    {
      "cell_type": "code",
      "metadata": {
        "id": "MkC2aC2dwmZS"
      },
      "source": [
        "from math import *\n",
        "x = int(input('Number '))\n",
        "print(sin(x))\n",
        "print(cos(x))\n",
        "print(tan(x))"
      ],
      "execution_count": null,
      "outputs": []
    }
  ]
}